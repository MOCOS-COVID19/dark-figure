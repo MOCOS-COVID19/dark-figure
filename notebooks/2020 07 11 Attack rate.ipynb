{
 "cells": [
  {
   "cell_type": "code",
   "execution_count": 1,
   "metadata": {},
   "outputs": [],
   "source": [
    "%load_ext autoreload\n",
    "%autoreload 2"
   ]
  },
  {
   "cell_type": "code",
   "execution_count": 2,
   "metadata": {},
   "outputs": [
    {
     "name": "stderr",
     "output_type": "stream",
     "text": [
      "\n",
      "Bad key \"text.kerning_factor\" on line 4 in\n",
      "C:\\Users\\onomatopeia\\.conda\\envs\\modelling-ncov2019\\lib\\site-packages\\matplotlib\\mpl-data\\stylelib\\_classic_test_patch.mplstyle.\n",
      "You probably need to get an updated matplotlibrc file from\n",
      "https://github.com/matplotlib/matplotlib/blob/v3.1.3/matplotlibrc.template\n",
      "or from the matplotlib source distribution\n"
     ]
    }
   ],
   "source": [
    "import numpy as np\n",
    "import pandas as pd\n",
    "from pathlib import Path\n",
    "from tqdm.notebook import tqdm\n",
    "import random\n",
    "from collections import defaultdict\n",
    "import matplotlib.pyplot as plt"
   ]
  },
  {
   "cell_type": "code",
   "execution_count": 3,
   "metadata": {},
   "outputs": [],
   "source": [
    "import os\n",
    "if os.getcwd().endswith('notebooks'):\n",
    "    os.chdir(os.path.join(os.getcwd(), os.pardir))\n",
    "# os.getcwd()"
   ]
  },
  {
   "cell_type": "code",
   "execution_count": 4,
   "metadata": {},
   "outputs": [],
   "source": [
    "from bootstrapping import attack_rate"
   ]
  },
  {
   "cell_type": "markdown",
   "metadata": {},
   "source": [
    "## Load index cases\n",
    "\n",
    "Load all index cases from the patient database. These patients are already filtered by Marcin and contain only thoses cases who live in households smaller than 15. "
   ]
  },
  {
   "cell_type": "code",
   "execution_count": 5,
   "metadata": {},
   "outputs": [],
   "source": [
    "index_cases = attack_rate.get_patient_data()\n",
    "index_cases_grouped_by_age = attack_rate.get_index_cases_grouped_by_age(index_cases)\n",
    "elderly_grouped = attack_rate.get_elderly_patient_data(index_cases)"
   ]
  },
  {
   "cell_type": "code",
   "execution_count": 6,
   "metadata": {},
   "outputs": [],
   "source": [
    "age_min = index_cases_grouped_by_age.age.min()"
   ]
  },
  {
   "cell_type": "code",
   "execution_count": 7,
   "metadata": {},
   "outputs": [],
   "source": [
    "age_max = index_cases_grouped_by_age.age.max() + 1"
   ]
  },
  {
   "cell_type": "code",
   "execution_count": 8,
   "metadata": {},
   "outputs": [
    {
     "name": "stdout",
     "output_type": "stream",
     "text": [
      "Youngest index case: 0 years old, oldest index case: 98 years old\n"
     ]
    }
   ],
   "source": [
    "print(f'Youngest index case: {age_min} years old, oldest index case: {age_max-1} years old')"
   ]
  },
  {
   "cell_type": "code",
   "execution_count": 9,
   "metadata": {},
   "outputs": [
    {
     "name": "stdout",
     "output_type": "stream",
     "text": [
      "Number of cases: 9749\n"
     ]
    }
   ],
   "source": [
    "print(f'Number of cases: {len(index_cases.index)}')"
   ]
  },
  {
   "cell_type": "markdown",
   "metadata": {},
   "source": [
    "# Attack rate calculator"
   ]
  },
  {
   "cell_type": "code",
   "execution_count": 10,
   "metadata": {},
   "outputs": [],
   "source": [
    "calc = attack_rate.AttackRate()"
   ]
  },
  {
   "cell_type": "markdown",
   "metadata": {},
   "source": [
    "# $\\lambda$\n",
    "\n",
    "As in Marcin's calculations, possible $\\lambda$ values are as follows:"
   ]
  },
  {
   "cell_type": "code",
   "execution_count": 11,
   "metadata": {},
   "outputs": [
    {
     "data": {
      "text/plain": [
       "array([0.00097656, 0.00109357, 0.0012246 , 0.00137133, 0.00153565,\n",
       "       0.00171965, 0.00192569, 0.00215642, 0.00241481, 0.00270414,\n",
       "       0.00302815, 0.00339098, 0.00379728, 0.00425227, 0.00476177,\n",
       "       0.00533232, 0.00597123, 0.0066867 , 0.00748789, 0.00838508,\n",
       "       0.00938977, 0.01051485, 0.01177472, 0.01318555, 0.01476543,\n",
       "       0.01653461, 0.01851576, 0.0207343 , 0.02321866, 0.02600069,\n",
       "       0.02911606, 0.03260472, 0.03651137, 0.04088612, 0.04578505,\n",
       "       0.05127096, 0.05741418, 0.06429348, 0.07199705, 0.08062365,\n",
       "       0.09028388, 0.10110159, 0.11321546, 0.1267808 , 0.14197152,\n",
       "       0.15898238, 0.17803146, 0.19936297, 0.2232504 , 0.25      ])"
      ]
     },
     "execution_count": 11,
     "metadata": {},
     "output_type": "execute_result"
    }
   ],
   "source": [
    "lambdas = calc.get_lambdas()\n",
    "lambdas"
   ]
  },
  {
   "cell_type": "markdown",
   "metadata": {},
   "source": [
    "# $\\mu_k\\left(\\lambda\\right)$\n",
    "\n",
    "This section was calculated by Marcin, here I'm just loading his results. `household_size` includes an index case."
   ]
  },
  {
   "cell_type": "code",
   "execution_count": 12,
   "metadata": {},
   "outputs": [],
   "source": [
    "mu_k_lambda = calc.get_mu_k_lambda()"
   ]
  },
  {
   "cell_type": "code",
   "execution_count": 13,
   "metadata": {},
   "outputs": [
    {
     "data": {
      "text/html": [
       "<div>\n",
       "<style scoped>\n",
       "    .dataframe tbody tr th:only-of-type {\n",
       "        vertical-align: middle;\n",
       "    }\n",
       "\n",
       "    .dataframe tbody tr th {\n",
       "        vertical-align: top;\n",
       "    }\n",
       "\n",
       "    .dataframe thead th {\n",
       "        text-align: right;\n",
       "    }\n",
       "</style>\n",
       "<table border=\"1\" class=\"dataframe\">\n",
       "  <thead>\n",
       "    <tr style=\"text-align: right;\">\n",
       "      <th>lambda</th>\n",
       "      <th>0.0009765625</th>\n",
       "      <th>0.00109357304700408</th>\n",
       "      <th>0.0012246036573529983</th>\n",
       "      <th>0.001371334198214511</th>\n",
       "      <th>0.0015356458164247958</th>\n",
       "      <th>0.0017196450555768113</th>\n",
       "      <th>0.001925690862789257</th>\n",
       "      <th>0.002156424831394164</th>\n",
       "      <th>0.0024148050672670464</th>\n",
       "      <th>0.0027041441129800866</th>\n",
       "      <th>...</th>\n",
       "      <th>0.09028388088789618</th>\n",
       "      <th>0.10110158716716036</th>\n",
       "      <th>0.1132154580329883</th>\n",
       "      <th>0.12678079837091588</th>\n",
       "      <th>0.1419715215115185</th>\n",
       "      <th>0.1589823788719683</th>\n",
       "      <th>0.17803145675056684</th>\n",
       "      <th>0.19936297228420347</th>\n",
       "      <th>0.22325040441408134</th>\n",
       "      <th>0.25</th>\n",
       "    </tr>\n",
       "    <tr>\n",
       "      <th>k</th>\n",
       "      <th></th>\n",
       "      <th></th>\n",
       "      <th></th>\n",
       "      <th></th>\n",
       "      <th></th>\n",
       "      <th></th>\n",
       "      <th></th>\n",
       "      <th></th>\n",
       "      <th></th>\n",
       "      <th></th>\n",
       "      <th></th>\n",
       "      <th></th>\n",
       "      <th></th>\n",
       "      <th></th>\n",
       "      <th></th>\n",
       "      <th></th>\n",
       "      <th></th>\n",
       "      <th></th>\n",
       "      <th></th>\n",
       "      <th></th>\n",
       "      <th></th>\n",
       "    </tr>\n",
       "  </thead>\n",
       "  <tbody>\n",
       "    <tr>\n",
       "      <th>2</th>\n",
       "      <td>0.0004</td>\n",
       "      <td>0.0008</td>\n",
       "      <td>0.0014</td>\n",
       "      <td>0.0018</td>\n",
       "      <td>0.0022</td>\n",
       "      <td>0.0008</td>\n",
       "      <td>0.0028</td>\n",
       "      <td>0.0020</td>\n",
       "      <td>0.0026</td>\n",
       "      <td>0.0026</td>\n",
       "      <td>...</td>\n",
       "      <td>0.0908</td>\n",
       "      <td>0.0982</td>\n",
       "      <td>0.1112</td>\n",
       "      <td>0.1318</td>\n",
       "      <td>0.1446</td>\n",
       "      <td>0.1552</td>\n",
       "      <td>0.1912</td>\n",
       "      <td>0.1954</td>\n",
       "      <td>0.2132</td>\n",
       "      <td>0.2664</td>\n",
       "    </tr>\n",
       "    <tr>\n",
       "      <th>3</th>\n",
       "      <td>0.0022</td>\n",
       "      <td>0.0026</td>\n",
       "      <td>0.0018</td>\n",
       "      <td>0.0016</td>\n",
       "      <td>0.0034</td>\n",
       "      <td>0.0026</td>\n",
       "      <td>0.0042</td>\n",
       "      <td>0.0052</td>\n",
       "      <td>0.0052</td>\n",
       "      <td>0.0046</td>\n",
       "      <td>...</td>\n",
       "      <td>0.1880</td>\n",
       "      <td>0.2126</td>\n",
       "      <td>0.2506</td>\n",
       "      <td>0.3074</td>\n",
       "      <td>0.3198</td>\n",
       "      <td>0.3530</td>\n",
       "      <td>0.4002</td>\n",
       "      <td>0.4576</td>\n",
       "      <td>0.5224</td>\n",
       "      <td>0.6074</td>\n",
       "    </tr>\n",
       "    <tr>\n",
       "      <th>4</th>\n",
       "      <td>0.0034</td>\n",
       "      <td>0.0024</td>\n",
       "      <td>0.0028</td>\n",
       "      <td>0.0038</td>\n",
       "      <td>0.0052</td>\n",
       "      <td>0.0050</td>\n",
       "      <td>0.0058</td>\n",
       "      <td>0.0048</td>\n",
       "      <td>0.0092</td>\n",
       "      <td>0.0064</td>\n",
       "      <td>...</td>\n",
       "      <td>0.3238</td>\n",
       "      <td>0.3616</td>\n",
       "      <td>0.4118</td>\n",
       "      <td>0.4658</td>\n",
       "      <td>0.5372</td>\n",
       "      <td>0.6296</td>\n",
       "      <td>0.6792</td>\n",
       "      <td>0.7918</td>\n",
       "      <td>0.9130</td>\n",
       "      <td>1.0718</td>\n",
       "    </tr>\n",
       "    <tr>\n",
       "      <th>5</th>\n",
       "      <td>0.0028</td>\n",
       "      <td>0.0036</td>\n",
       "      <td>0.0062</td>\n",
       "      <td>0.0046</td>\n",
       "      <td>0.0054</td>\n",
       "      <td>0.0076</td>\n",
       "      <td>0.0082</td>\n",
       "      <td>0.0092</td>\n",
       "      <td>0.0102</td>\n",
       "      <td>0.0102</td>\n",
       "      <td>...</td>\n",
       "      <td>0.4964</td>\n",
       "      <td>0.5350</td>\n",
       "      <td>0.5978</td>\n",
       "      <td>0.6952</td>\n",
       "      <td>0.8416</td>\n",
       "      <td>0.9250</td>\n",
       "      <td>1.1012</td>\n",
       "      <td>1.2984</td>\n",
       "      <td>1.4790</td>\n",
       "      <td>1.6678</td>\n",
       "    </tr>\n",
       "    <tr>\n",
       "      <th>6</th>\n",
       "      <td>0.0058</td>\n",
       "      <td>0.0048</td>\n",
       "      <td>0.0044</td>\n",
       "      <td>0.0060</td>\n",
       "      <td>0.0078</td>\n",
       "      <td>0.0068</td>\n",
       "      <td>0.0100</td>\n",
       "      <td>0.0078</td>\n",
       "      <td>0.0112</td>\n",
       "      <td>0.0132</td>\n",
       "      <td>...</td>\n",
       "      <td>0.6238</td>\n",
       "      <td>0.7586</td>\n",
       "      <td>0.8592</td>\n",
       "      <td>1.0130</td>\n",
       "      <td>1.1596</td>\n",
       "      <td>1.3792</td>\n",
       "      <td>1.5772</td>\n",
       "      <td>1.8616</td>\n",
       "      <td>2.2038</td>\n",
       "      <td>2.4762</td>\n",
       "    </tr>\n",
       "    <tr>\n",
       "      <th>7</th>\n",
       "      <td>0.0060</td>\n",
       "      <td>0.0082</td>\n",
       "      <td>0.0088</td>\n",
       "      <td>0.0108</td>\n",
       "      <td>0.0082</td>\n",
       "      <td>0.0094</td>\n",
       "      <td>0.0134</td>\n",
       "      <td>0.0110</td>\n",
       "      <td>0.0140</td>\n",
       "      <td>0.0156</td>\n",
       "      <td>...</td>\n",
       "      <td>0.8054</td>\n",
       "      <td>0.9978</td>\n",
       "      <td>1.1710</td>\n",
       "      <td>1.3704</td>\n",
       "      <td>1.6344</td>\n",
       "      <td>1.8828</td>\n",
       "      <td>2.2528</td>\n",
       "      <td>2.6306</td>\n",
       "      <td>2.9978</td>\n",
       "      <td>3.5218</td>\n",
       "    </tr>\n",
       "    <tr>\n",
       "      <th>8</th>\n",
       "      <td>0.0066</td>\n",
       "      <td>0.0086</td>\n",
       "      <td>0.0086</td>\n",
       "      <td>0.0114</td>\n",
       "      <td>0.0098</td>\n",
       "      <td>0.0108</td>\n",
       "      <td>0.0132</td>\n",
       "      <td>0.0158</td>\n",
       "      <td>0.0174</td>\n",
       "      <td>0.0186</td>\n",
       "      <td>...</td>\n",
       "      <td>1.0660</td>\n",
       "      <td>1.2538</td>\n",
       "      <td>1.5250</td>\n",
       "      <td>1.8198</td>\n",
       "      <td>2.1652</td>\n",
       "      <td>2.4854</td>\n",
       "      <td>3.0546</td>\n",
       "      <td>3.4752</td>\n",
       "      <td>4.0850</td>\n",
       "      <td>4.5400</td>\n",
       "    </tr>\n",
       "    <tr>\n",
       "      <th>9</th>\n",
       "      <td>0.0074</td>\n",
       "      <td>0.0094</td>\n",
       "      <td>0.0088</td>\n",
       "      <td>0.0112</td>\n",
       "      <td>0.0116</td>\n",
       "      <td>0.0150</td>\n",
       "      <td>0.0142</td>\n",
       "      <td>0.0202</td>\n",
       "      <td>0.0234</td>\n",
       "      <td>0.0206</td>\n",
       "      <td>...</td>\n",
       "      <td>1.3360</td>\n",
       "      <td>1.6206</td>\n",
       "      <td>1.9552</td>\n",
       "      <td>2.4082</td>\n",
       "      <td>2.7534</td>\n",
       "      <td>3.3426</td>\n",
       "      <td>3.9538</td>\n",
       "      <td>4.5822</td>\n",
       "      <td>5.2078</td>\n",
       "      <td>5.8762</td>\n",
       "    </tr>\n",
       "    <tr>\n",
       "      <th>10</th>\n",
       "      <td>0.0096</td>\n",
       "      <td>0.0106</td>\n",
       "      <td>0.0106</td>\n",
       "      <td>0.0116</td>\n",
       "      <td>0.0134</td>\n",
       "      <td>0.0166</td>\n",
       "      <td>0.0148</td>\n",
       "      <td>0.0208</td>\n",
       "      <td>0.0238</td>\n",
       "      <td>0.0254</td>\n",
       "      <td>...</td>\n",
       "      <td>1.6912</td>\n",
       "      <td>2.0422</td>\n",
       "      <td>2.4604</td>\n",
       "      <td>3.0438</td>\n",
       "      <td>3.5238</td>\n",
       "      <td>4.2998</td>\n",
       "      <td>5.0374</td>\n",
       "      <td>5.7628</td>\n",
       "      <td>6.4698</td>\n",
       "      <td>7.2500</td>\n",
       "    </tr>\n",
       "    <tr>\n",
       "      <th>11</th>\n",
       "      <td>0.0098</td>\n",
       "      <td>0.0116</td>\n",
       "      <td>0.0134</td>\n",
       "      <td>0.0154</td>\n",
       "      <td>0.0182</td>\n",
       "      <td>0.0214</td>\n",
       "      <td>0.0160</td>\n",
       "      <td>0.0210</td>\n",
       "      <td>0.0206</td>\n",
       "      <td>0.0286</td>\n",
       "      <td>...</td>\n",
       "      <td>2.1610</td>\n",
       "      <td>2.4746</td>\n",
       "      <td>3.1230</td>\n",
       "      <td>3.7068</td>\n",
       "      <td>4.4880</td>\n",
       "      <td>5.3272</td>\n",
       "      <td>6.2384</td>\n",
       "      <td>7.0636</td>\n",
       "      <td>7.8818</td>\n",
       "      <td>8.5062</td>\n",
       "    </tr>\n",
       "    <tr>\n",
       "      <th>12</th>\n",
       "      <td>0.0100</td>\n",
       "      <td>0.0134</td>\n",
       "      <td>0.0126</td>\n",
       "      <td>0.0152</td>\n",
       "      <td>0.0158</td>\n",
       "      <td>0.0204</td>\n",
       "      <td>0.0234</td>\n",
       "      <td>0.0224</td>\n",
       "      <td>0.0312</td>\n",
       "      <td>0.0352</td>\n",
       "      <td>...</td>\n",
       "      <td>2.5770</td>\n",
       "      <td>3.2274</td>\n",
       "      <td>3.9570</td>\n",
       "      <td>4.6336</td>\n",
       "      <td>5.6282</td>\n",
       "      <td>6.5090</td>\n",
       "      <td>7.4628</td>\n",
       "      <td>8.3110</td>\n",
       "      <td>9.1866</td>\n",
       "      <td>9.8960</td>\n",
       "    </tr>\n",
       "    <tr>\n",
       "      <th>13</th>\n",
       "      <td>0.0116</td>\n",
       "      <td>0.0128</td>\n",
       "      <td>0.0126</td>\n",
       "      <td>0.0138</td>\n",
       "      <td>0.0190</td>\n",
       "      <td>0.0190</td>\n",
       "      <td>0.0262</td>\n",
       "      <td>0.0202</td>\n",
       "      <td>0.0302</td>\n",
       "      <td>0.0294</td>\n",
       "      <td>...</td>\n",
       "      <td>3.1430</td>\n",
       "      <td>3.9488</td>\n",
       "      <td>4.7304</td>\n",
       "      <td>5.5638</td>\n",
       "      <td>6.7152</td>\n",
       "      <td>7.8178</td>\n",
       "      <td>8.9018</td>\n",
       "      <td>9.8960</td>\n",
       "      <td>10.5398</td>\n",
       "      <td>11.0576</td>\n",
       "    </tr>\n",
       "    <tr>\n",
       "      <th>14</th>\n",
       "      <td>0.0118</td>\n",
       "      <td>0.0176</td>\n",
       "      <td>0.0154</td>\n",
       "      <td>0.0166</td>\n",
       "      <td>0.0208</td>\n",
       "      <td>0.0222</td>\n",
       "      <td>0.0230</td>\n",
       "      <td>0.0296</td>\n",
       "      <td>0.0342</td>\n",
       "      <td>0.0330</td>\n",
       "      <td>...</td>\n",
       "      <td>3.8486</td>\n",
       "      <td>4.5944</td>\n",
       "      <td>5.6610</td>\n",
       "      <td>6.8710</td>\n",
       "      <td>8.1032</td>\n",
       "      <td>9.2062</td>\n",
       "      <td>10.3122</td>\n",
       "      <td>11.1096</td>\n",
       "      <td>11.8028</td>\n",
       "      <td>12.2698</td>\n",
       "    </tr>\n",
       "  </tbody>\n",
       "</table>\n",
       "<p>13 rows × 50 columns</p>\n",
       "</div>"
      ],
      "text/plain": [
       "lambda  0.0009765625  0.00109357304700408  0.0012246036573529983  \\\n",
       "k                                                                  \n",
       "2             0.0004               0.0008                 0.0014   \n",
       "3             0.0022               0.0026                 0.0018   \n",
       "4             0.0034               0.0024                 0.0028   \n",
       "5             0.0028               0.0036                 0.0062   \n",
       "6             0.0058               0.0048                 0.0044   \n",
       "7             0.0060               0.0082                 0.0088   \n",
       "8             0.0066               0.0086                 0.0086   \n",
       "9             0.0074               0.0094                 0.0088   \n",
       "10            0.0096               0.0106                 0.0106   \n",
       "11            0.0098               0.0116                 0.0134   \n",
       "12            0.0100               0.0134                 0.0126   \n",
       "13            0.0116               0.0128                 0.0126   \n",
       "14            0.0118               0.0176                 0.0154   \n",
       "\n",
       "lambda  0.001371334198214511  0.0015356458164247958  0.0017196450555768113  \\\n",
       "k                                                                            \n",
       "2                     0.0018                 0.0022                 0.0008   \n",
       "3                     0.0016                 0.0034                 0.0026   \n",
       "4                     0.0038                 0.0052                 0.0050   \n",
       "5                     0.0046                 0.0054                 0.0076   \n",
       "6                     0.0060                 0.0078                 0.0068   \n",
       "7                     0.0108                 0.0082                 0.0094   \n",
       "8                     0.0114                 0.0098                 0.0108   \n",
       "9                     0.0112                 0.0116                 0.0150   \n",
       "10                    0.0116                 0.0134                 0.0166   \n",
       "11                    0.0154                 0.0182                 0.0214   \n",
       "12                    0.0152                 0.0158                 0.0204   \n",
       "13                    0.0138                 0.0190                 0.0190   \n",
       "14                    0.0166                 0.0208                 0.0222   \n",
       "\n",
       "lambda  0.001925690862789257  0.002156424831394164  0.0024148050672670464  \\\n",
       "k                                                                           \n",
       "2                     0.0028                0.0020                 0.0026   \n",
       "3                     0.0042                0.0052                 0.0052   \n",
       "4                     0.0058                0.0048                 0.0092   \n",
       "5                     0.0082                0.0092                 0.0102   \n",
       "6                     0.0100                0.0078                 0.0112   \n",
       "7                     0.0134                0.0110                 0.0140   \n",
       "8                     0.0132                0.0158                 0.0174   \n",
       "9                     0.0142                0.0202                 0.0234   \n",
       "10                    0.0148                0.0208                 0.0238   \n",
       "11                    0.0160                0.0210                 0.0206   \n",
       "12                    0.0234                0.0224                 0.0312   \n",
       "13                    0.0262                0.0202                 0.0302   \n",
       "14                    0.0230                0.0296                 0.0342   \n",
       "\n",
       "lambda  0.0027041441129800866  ...  0.09028388088789618  0.10110158716716036  \\\n",
       "k                              ...                                             \n",
       "2                      0.0026  ...               0.0908               0.0982   \n",
       "3                      0.0046  ...               0.1880               0.2126   \n",
       "4                      0.0064  ...               0.3238               0.3616   \n",
       "5                      0.0102  ...               0.4964               0.5350   \n",
       "6                      0.0132  ...               0.6238               0.7586   \n",
       "7                      0.0156  ...               0.8054               0.9978   \n",
       "8                      0.0186  ...               1.0660               1.2538   \n",
       "9                      0.0206  ...               1.3360               1.6206   \n",
       "10                     0.0254  ...               1.6912               2.0422   \n",
       "11                     0.0286  ...               2.1610               2.4746   \n",
       "12                     0.0352  ...               2.5770               3.2274   \n",
       "13                     0.0294  ...               3.1430               3.9488   \n",
       "14                     0.0330  ...               3.8486               4.5944   \n",
       "\n",
       "lambda  0.1132154580329883  0.12678079837091588  0.1419715215115185  \\\n",
       "k                                                                     \n",
       "2                   0.1112               0.1318              0.1446   \n",
       "3                   0.2506               0.3074              0.3198   \n",
       "4                   0.4118               0.4658              0.5372   \n",
       "5                   0.5978               0.6952              0.8416   \n",
       "6                   0.8592               1.0130              1.1596   \n",
       "7                   1.1710               1.3704              1.6344   \n",
       "8                   1.5250               1.8198              2.1652   \n",
       "9                   1.9552               2.4082              2.7534   \n",
       "10                  2.4604               3.0438              3.5238   \n",
       "11                  3.1230               3.7068              4.4880   \n",
       "12                  3.9570               4.6336              5.6282   \n",
       "13                  4.7304               5.5638              6.7152   \n",
       "14                  5.6610               6.8710              8.1032   \n",
       "\n",
       "lambda  0.1589823788719683  0.17803145675056684  0.19936297228420347  \\\n",
       "k                                                                      \n",
       "2                   0.1552               0.1912               0.1954   \n",
       "3                   0.3530               0.4002               0.4576   \n",
       "4                   0.6296               0.6792               0.7918   \n",
       "5                   0.9250               1.1012               1.2984   \n",
       "6                   1.3792               1.5772               1.8616   \n",
       "7                   1.8828               2.2528               2.6306   \n",
       "8                   2.4854               3.0546               3.4752   \n",
       "9                   3.3426               3.9538               4.5822   \n",
       "10                  4.2998               5.0374               5.7628   \n",
       "11                  5.3272               6.2384               7.0636   \n",
       "12                  6.5090               7.4628               8.3110   \n",
       "13                  7.8178               8.9018               9.8960   \n",
       "14                  9.2062              10.3122              11.1096   \n",
       "\n",
       "lambda  0.22325040441408134     0.25  \n",
       "k                                     \n",
       "2                    0.2132   0.2664  \n",
       "3                    0.5224   0.6074  \n",
       "4                    0.9130   1.0718  \n",
       "5                    1.4790   1.6678  \n",
       "6                    2.2038   2.4762  \n",
       "7                    2.9978   3.5218  \n",
       "8                    4.0850   4.5400  \n",
       "9                    5.2078   5.8762  \n",
       "10                   6.4698   7.2500  \n",
       "11                   7.8818   8.5062  \n",
       "12                   9.1866   9.8960  \n",
       "13                  10.5398  11.0576  \n",
       "14                  11.8028  12.2698  \n",
       "\n",
       "[13 rows x 50 columns]"
      ]
     },
     "execution_count": 13,
     "metadata": {},
     "output_type": "execute_result"
    }
   ],
   "source": [
    "mu_k_lambda"
   ]
  },
  {
   "cell_type": "markdown",
   "metadata": {},
   "source": [
    "# K"
   ]
  },
  {
   "cell_type": "code",
   "execution_count": 14,
   "metadata": {},
   "outputs": [],
   "source": [
    "K = calc.get_K()"
   ]
  },
  {
   "cell_type": "code",
   "execution_count": 15,
   "metadata": {},
   "outputs": [
    {
     "data": {
      "text/plain": [
       "array([ 0,  1,  2,  3,  4,  5,  6,  7,  8,  9, 10, 11, 12, 13])"
      ]
     },
     "execution_count": 15,
     "metadata": {},
     "output_type": "execute_result"
    }
   ],
   "source": [
    "K"
   ]
  },
  {
   "cell_type": "markdown",
   "metadata": {},
   "source": [
    "# $p_k\\left(a\\right)$ and the number of index cases per voyvodship, age, gender, min household size"
   ]
  },
  {
   "cell_type": "markdown",
   "metadata": {},
   "source": [
    "`[a]` - an age group. Here I assume that each age group consists of a single age. \n",
    "\n",
    "**Procedure**:\n",
    "```\n",
    "Input: t - number of trials, here: t = 10 000\n",
    "Output: p - matrix of propabilities of size (|V|, |[a]|, |G|, |K|, |K|)\n",
    "\n",
    "For each voyvodship v in V:\n",
    "  For each min_household_size h in K:\n",
    "    For each age group [a]: \n",
    "      For each gender g in G:\n",
    "        1. choose all households of size at least h in voyvodship v where at least one person aged [a] and of gender g lives\n",
    "        2. select at random (with replacement) t households from those chosen in point 1\n",
    "        3. For each household chosen in point 2:\n",
    "            a. determine how many people live there (k+1)\n",
    "            b. p[v, [a], g, h, k+1] = p[v, [a], g, h, k+1] + 1\n",
    "      end\n",
    "    end\n",
    "  end\n",
    "end\n",
    "4. p = p / t \n",
    "```"
   ]
  },
  {
   "cell_type": "code",
   "execution_count": 16,
   "metadata": {},
   "outputs": [
    {
     "name": "stderr",
     "output_type": "stream",
     "text": [
      "Calculating elderly: 100%|███████████████████████| 7/7 [00:26<00:00,  3.82s/it]\n",
      "Calculating young fellows: 100%|███████████████| 16/16 [01:50<00:00,  6.89s/it]\n"
     ]
    }
   ],
   "source": [
    "p, num_cases = calc.calculate_probabilities_of_household_size(index_cases_grouped_by_age, elderly_grouped)"
   ]
  },
  {
   "cell_type": "code",
   "execution_count": 17,
   "metadata": {},
   "outputs": [
    {
     "data": {
      "text/plain": [
       "array([0.1515, 0.2839, 0.1516, 0.0979, 0.1024, 0.079 , 0.0627, 0.0332,\n",
       "       0.0208, 0.0076, 0.006 , 0.0009, 0.0013, 0.0012])"
      ]
     },
     "execution_count": 17,
     "metadata": {},
     "output_type": "execute_result"
    }
   ],
   "source": [
    "p[0,90,0,0,:]"
   ]
  },
  {
   "cell_type": "code",
   "execution_count": 18,
   "metadata": {},
   "outputs": [
    {
     "data": {
      "text/plain": [
       "1.0000000000000002"
      ]
     },
     "execution_count": 18,
     "metadata": {},
     "output_type": "execute_result"
    }
   ],
   "source": [
    "np.sum(p[0,90,0,0,:])"
   ]
  },
  {
   "cell_type": "code",
   "execution_count": 19,
   "metadata": {},
   "outputs": [
    {
     "data": {
      "text/plain": [
       "array([0.0477, 0.0903, 0.2163, 0.3039, 0.1368, 0.0876, 0.0435, 0.0301,\n",
       "       0.0166, 0.0111, 0.007 , 0.0038, 0.0028, 0.0025])"
      ]
     },
     "execution_count": 19,
     "metadata": {},
     "output_type": "execute_result"
    }
   ],
   "source": [
    "p[0,40,0,0,:]"
   ]
  },
  {
   "cell_type": "code",
   "execution_count": 20,
   "metadata": {},
   "outputs": [
    {
     "data": {
      "text/plain": [
       "0.9999999999999999"
      ]
     },
     "execution_count": 20,
     "metadata": {},
     "output_type": "execute_result"
    }
   ],
   "source": [
    "np.sum(p[0,40,0,0,:])"
   ]
  },
  {
   "cell_type": "code",
   "execution_count": 21,
   "metadata": {},
   "outputs": [
    {
     "data": {
      "text/plain": [
       "9749.0"
      ]
     },
     "execution_count": 21,
     "metadata": {},
     "output_type": "execute_result"
    }
   ],
   "source": [
    "np.sum(num_cases)"
   ]
  },
  {
   "cell_type": "markdown",
   "metadata": {},
   "source": [
    "# $\\bar{\\mu}(a) = \\sum_{k\\geq 1} \\mu_k\\left(\\lambda\\right) p_k(a)$"
   ]
  },
  {
   "cell_type": "code",
   "execution_count": 22,
   "metadata": {},
   "outputs": [],
   "source": [
    "mu_bar = calc.get_mu_bar(p, mu_k_lambda)"
   ]
  },
  {
   "cell_type": "code",
   "execution_count": 23,
   "metadata": {},
   "outputs": [
    {
     "data": {
      "text/plain": [
       "(50, 16, 99, 2, 14)"
      ]
     },
     "execution_count": 23,
     "metadata": {},
     "output_type": "execute_result"
    }
   ],
   "source": [
    "mu_bar.shape # lambda, voy, age, gender, min_household_size"
   ]
  },
  {
   "cell_type": "code",
   "execution_count": 24,
   "metadata": {},
   "outputs": [
    {
     "data": {
      "text/plain": [
       "array([0.003294 , 0.0034614, 0.       , 0.       , 0.       , 0.       ,\n",
       "       0.       , 0.       , 0.       , 0.       , 0.       , 0.       ,\n",
       "       0.       , 0.       ])"
      ]
     },
     "execution_count": 24,
     "metadata": {},
     "output_type": "execute_result"
    }
   ],
   "source": [
    "mu_bar[0,0,40,0,:]  # 13 numbers corresponding to min_household_size of 1 to 14"
   ]
  },
  {
   "cell_type": "code",
   "execution_count": 25,
   "metadata": {},
   "outputs": [],
   "source": [
    "# dlaczego tam jest tyle zer? może nie było takich przypadków wśród index cases?"
   ]
  },
  {
   "cell_type": "code",
   "execution_count": 26,
   "metadata": {},
   "outputs": [
    {
     "data": {
      "text/html": [
       "<div>\n",
       "<style scoped>\n",
       "    .dataframe tbody tr th:only-of-type {\n",
       "        vertical-align: middle;\n",
       "    }\n",
       "\n",
       "    .dataframe tbody tr th {\n",
       "        vertical-align: top;\n",
       "    }\n",
       "\n",
       "    .dataframe thead th {\n",
       "        text-align: right;\n",
       "    }\n",
       "</style>\n",
       "<table border=\"1\" class=\"dataframe\">\n",
       "  <thead>\n",
       "    <tr style=\"text-align: right;\">\n",
       "      <th></th>\n",
       "      <th>age</th>\n",
       "      <th>min_household_size</th>\n",
       "      <th>gender</th>\n",
       "      <th>voy</th>\n",
       "    </tr>\n",
       "  </thead>\n",
       "  <tbody>\n",
       "    <tr>\n",
       "      <th>2215</th>\n",
       "      <td>40</td>\n",
       "      <td>2</td>\n",
       "      <td>0</td>\n",
       "      <td>02</td>\n",
       "    </tr>\n",
       "    <tr>\n",
       "      <th>4225</th>\n",
       "      <td>40</td>\n",
       "      <td>1</td>\n",
       "      <td>0</td>\n",
       "      <td>02</td>\n",
       "    </tr>\n",
       "    <tr>\n",
       "      <th>5820</th>\n",
       "      <td>40</td>\n",
       "      <td>1</td>\n",
       "      <td>0</td>\n",
       "      <td>02</td>\n",
       "    </tr>\n",
       "    <tr>\n",
       "      <th>7454</th>\n",
       "      <td>40</td>\n",
       "      <td>1</td>\n",
       "      <td>0</td>\n",
       "      <td>02</td>\n",
       "    </tr>\n",
       "    <tr>\n",
       "      <th>7457</th>\n",
       "      <td>40</td>\n",
       "      <td>1</td>\n",
       "      <td>0</td>\n",
       "      <td>02</td>\n",
       "    </tr>\n",
       "    <tr>\n",
       "      <th>9580</th>\n",
       "      <td>40</td>\n",
       "      <td>1</td>\n",
       "      <td>0</td>\n",
       "      <td>02</td>\n",
       "    </tr>\n",
       "  </tbody>\n",
       "</table>\n",
       "</div>"
      ],
      "text/plain": [
       "      age  min_household_size  gender voy\n",
       "2215   40                   2       0  02\n",
       "4225   40                   1       0  02\n",
       "5820   40                   1       0  02\n",
       "7454   40                   1       0  02\n",
       "7457   40                   1       0  02\n",
       "9580   40                   1       0  02"
      ]
     },
     "execution_count": 26,
     "metadata": {},
     "output_type": "execute_result"
    }
   ],
   "source": [
    "index_cases[(index_cases.age == 40) & (index_cases.gender == 0) & (index_cases.voy == '02')]"
   ]
  },
  {
   "cell_type": "code",
   "execution_count": 27,
   "metadata": {},
   "outputs": [],
   "source": [
    "# ok, nie było."
   ]
  },
  {
   "cell_type": "markdown",
   "metadata": {},
   "source": [
    "# $\\mathbb{E}I$\n",
    "\n",
    "$ \\mathbb{E}I = \\sum_a |[a]|\\bar{\\mu}(a)$\n",
    "\n",
    "Updated version:\n",
    "\n",
    "$ \\mathbb{E}I = \\sum_v \\sum_n \\sum_g \\sum_a |[v,a,g,n]|\\bar{\\mu}(v,a,g,n)$"
   ]
  },
  {
   "cell_type": "code",
   "execution_count": 28,
   "metadata": {},
   "outputs": [],
   "source": [
    "ei_df = calc.get_ei(mu_bar, num_cases)"
   ]
  },
  {
   "cell_type": "code",
   "execution_count": 30,
   "metadata": {},
   "outputs": [
    {
     "data": {
      "image/png": "[encoded data removed]",
      "text/plain": [
       "<Figure size 432x288 with 1 Axes>"
      ]
     },
     "metadata": {
      "needs_background": "light"
     },
     "output_type": "display_data"
    }
   ],
   "source": [
    "plt.figure()\n",
    "plt.plot(ei_df['lambda'], ei_df.EI)\n",
    "plt.xlabel('$\\lambda$')\n",
    "plt.ylabel('$\\mathbb{E}I$')\n",
    "plt.title('Expected number of secondary infected depending on $\\lambda$')\n",
    "plt.savefig(str(attack_rate.RESULTS_DIR / 'ei_df.png'))\n",
    "plt.show()"
   ]
  },
  {
   "cell_type": "markdown",
   "metadata": {},
   "source": [
    "# $\\bar{h}(a)$\n",
    "\n",
    "$ \\bar{h}(a) = \\sum_{k\\geq 1} kp_k(a) $"
   ]
  },
  {
   "cell_type": "code",
   "execution_count": 31,
   "metadata": {},
   "outputs": [],
   "source": [
    "bar_h = calc.get_bar_h(p)"
   ]
  },
  {
   "cell_type": "code",
   "execution_count": 32,
   "metadata": {},
   "outputs": [
    {
     "data": {
      "text/plain": [
       "(16, 99, 2, 14)"
      ]
     },
     "execution_count": 32,
     "metadata": {},
     "output_type": "execute_result"
    }
   ],
   "source": [
    "bar_h.shape"
   ]
  },
  {
   "cell_type": "markdown",
   "metadata": {},
   "source": [
    "# $N^*$"
   ]
  },
  {
   "cell_type": "code",
   "execution_count": 34,
   "metadata": {},
   "outputs": [],
   "source": [
    "N_asterisk = 32023"
   ]
  },
  {
   "cell_type": "markdown",
   "metadata": {},
   "source": [
    "# $\\mathbb{E}N^*$\n",
    "\n",
    "$\\mathbb{E}N^* = \\sum_a |[a]| \\bar{h}(a)$"
   ]
  },
  {
   "cell_type": "code",
   "execution_count": 35,
   "metadata": {},
   "outputs": [],
   "source": [
    "EN_asterisk = calc.get_EN_asterisk(bar_h, num_cases)"
   ]
  },
  {
   "cell_type": "code",
   "execution_count": 36,
   "metadata": {},
   "outputs": [
    {
     "data": {
      "text/plain": [
       "31958.616299999998"
      ]
     },
     "execution_count": 36,
     "metadata": {},
     "output_type": "execute_result"
    }
   ],
   "source": [
    "EN_asterisk"
   ]
  },
  {
   "cell_type": "markdown",
   "metadata": {},
   "source": [
    "# $G(\\lambda)$\n",
    "\n",
    "$G(\\lambda) = \\frac{\\mathbb{E}I}{\\mathbb{E}N^*}$"
   ]
  },
  {
   "cell_type": "code",
   "execution_count": null,
   "metadata": {},
   "outputs": [],
   "source": [
    "G = calc.get_g_function(ei_df, EN_asterisk)"
   ]
  },
  {
   "cell_type": "code",
   "execution_count": 38,
   "metadata": {},
   "outputs": [
    {
     "data": {
      "image/png": "[encoded data removed]",
      "text/plain": [
       "<Figure size 1800x1200 with 1 Axes>"
      ]
     },
     "metadata": {
      "needs_background": "light"
     },
     "output_type": "display_data"
    }
   ],
   "source": [
    "plt.figure(dpi=300)\n",
    "plt.plot(G['lambda'], G['G'], label='$G(\\lambda)$')\n",
    "plt.xlabel('$\\lambda$')\n",
    "plt.ylabel('$G(\\lambda)$')\n",
    "plt.savefig(str(attack_rate.RESULTS_DIR / 'G_of_lambda.png'))\n",
    "plt.show()"
   ]
  },
  {
   "cell_type": "code",
   "execution_count": 39,
   "metadata": {},
   "outputs": [
    {
     "data": {
      "image/png": "[encoded data removed]",
      "text/plain": [
       "<Figure size 1800x1200 with 1 Axes>"
      ]
     },
     "metadata": {
      "needs_background": "light"
     },
     "output_type": "display_data"
    }
   ],
   "source": [
    "plt.figure(dpi=300)\n",
    "plt.plot(G['G'], G['lambda'], label='$G^{-1}$')\n",
    "plt.ylabel('$\\lambda$')\n",
    "plt.xlabel('$\\hat{I}/\\mathbb{E}N^*$')\n",
    "plt.legend()\n",
    "plt.savefig(str(attack_rate.RESULTS_DIR  / 'G_inverse.png'))\n",
    "plt.show()"
   ]
  },
  {
   "cell_type": "markdown",
   "metadata": {},
   "source": [
    "# $\\hat{I}$"
   ]
  },
  {
   "cell_type": "code",
   "execution_count": 40,
   "metadata": {},
   "outputs": [],
   "source": [
    "i_hat = attack_rate.get_known_secondary_infected_count(index_cases)"
   ]
  },
  {
   "cell_type": "code",
   "execution_count": 41,
   "metadata": {},
   "outputs": [
    {
     "data": {
      "text/plain": [
       "3713"
      ]
     },
     "execution_count": 41,
     "metadata": {},
     "output_type": "execute_result"
    }
   ],
   "source": [
    "i_hat"
   ]
  },
  {
   "cell_type": "code",
   "execution_count": 42,
   "metadata": {},
   "outputs": [],
   "source": [
    "# i_hat = 3553"
   ]
  },
  {
   "cell_type": "markdown",
   "metadata": {},
   "source": [
    "\n",
    "# $\\hat{\\lambda}$\n",
    "\n",
    "$\\hat{\\lambda} = G^{-1} \\left(\\frac{\\hat{I}}{\\mathbb{E}N^*}\\right)$"
   ]
  },
  {
   "cell_type": "code",
   "execution_count": null,
   "metadata": {},
   "outputs": [],
   "source": [
    "lambda_hat = calc.get_lambda_hat(g_df, i_hat, EN_asterisk)"
   ]
  },
  {
   "cell_type": "markdown",
   "metadata": {},
   "source": [
    "# Second part"
   ]
  },
  {
   "cell_type": "markdown",
   "metadata": {},
   "source": [
    "For each index patient take their age\n",
    "\n",
    "sample household size \n",
    "\n",
    "sample how many people in this household will be infected - say 2\n",
    "\n",
    "sample 2 people from this household and note their ages\n",
    "\n",
    "for each age group I get a distribution of the number of infected\n",
    "\n",
    "get a two-sided confidence interval with alpha=0.01 of infected I"
   ]
  },
  {
   "cell_type": "code",
   "execution_count": null,
   "metadata": {},
   "outputs": [],
   "source": [
    "## Probability of getting infected"
   ]
  },
  {
   "cell_type": "code",
   "execution_count": 48,
   "metadata": {},
   "outputs": [
    {
     "data": {
      "text/plain": [
       "array([[0.9171 , 0.0829 , 0.     , 0.     , 0.     , 0.     , 0.     ,\n",
       "        0.     , 0.     , 0.     , 0.     , 0.     , 0.     , 0.     ],\n",
       "       [0.841  , 0.1404 , 0.0186 , 0.     , 0.     , 0.     , 0.     ,\n",
       "        0.     , 0.     , 0.     , 0.     , 0.     , 0.     , 0.     ],\n",
       "       [0.7689 , 0.17925, 0.04475, 0.0071 , 0.     , 0.     , 0.     ,\n",
       "        0.     , 0.     , 0.     , 0.     , 0.     , 0.     , 0.     ],\n",
       "       [0.70625, 0.19685, 0.0702 , 0.0226 , 0.0041 , 0.     , 0.     ,\n",
       "        0.     , 0.     , 0.     , 0.     , 0.     , 0.     , 0.     ],\n",
       "       [0.64805, 0.2067 , 0.09095, 0.0374 , 0.01435, 0.00255, 0.     ,\n",
       "        0.     , 0.     , 0.     , 0.     , 0.     , 0.     , 0.     ],\n",
       "       [0.59475, 0.2068 , 0.1067 , 0.0548 , 0.02565, 0.00955, 0.00175,\n",
       "        0.     , 0.     , 0.     , 0.     , 0.     , 0.     , 0.     ],\n",
       "       [0.54485, 0.2056 , 0.11225, 0.06785, 0.0383 , 0.02045, 0.00845,\n",
       "        0.00225, 0.     , 0.     , 0.     , 0.     , 0.     , 0.     ],\n",
       "       [0.49385, 0.1985 , 0.1141 , 0.07765, 0.0519 , 0.0348 , 0.01855,\n",
       "        0.00815, 0.0025 , 0.     , 0.     , 0.     , 0.     , 0.     ],\n",
       "       [0.45995, 0.1839 , 0.11675, 0.0802 , 0.0619 , 0.04265, 0.02725,\n",
       "        0.0178 , 0.0079 , 0.0017 , 0.     , 0.     , 0.     , 0.     ],\n",
       "       [0.42575, 0.17775, 0.1104 , 0.0775 , 0.06255, 0.0543 , 0.03735,\n",
       "        0.0276 , 0.01625, 0.00805, 0.0025 , 0.     , 0.     , 0.     ],\n",
       "       [0.38815, 0.16035, 0.1036 , 0.07915, 0.0657 , 0.05465, 0.0476 ,\n",
       "        0.04065, 0.03035, 0.0186 , 0.0089 , 0.0023 , 0.     , 0.     ],\n",
       "       [0.35175, 0.15135, 0.09545, 0.0745 , 0.06405, 0.057  , 0.0528 ,\n",
       "        0.0459 , 0.0421 , 0.0319 , 0.02125, 0.0094 , 0.00255, 0.     ],\n",
       "       [0.32655, 0.1366 , 0.0892 , 0.06615, 0.0614 , 0.05435, 0.0528 ,\n",
       "        0.05005, 0.04685, 0.04245, 0.03575, 0.02365, 0.01045, 0.00375]])"
      ]
     },
     "execution_count": 48,
     "metadata": {},
     "output_type": "execute_result"
    }
   ],
   "source": [
    "prob_table, expected_infected = calc.get_probabilities_of_infection(lambda_hat)\n",
    "prob_table"
   ]
  },
  {
   "cell_type": "code",
   "execution_count": 50,
   "metadata": {},
   "outputs": [
    {
     "name": "stderr",
     "output_type": "stream",
     "text": [
      "100%|████████████████████████████████████████████| 7/7 [01:04<00:00,  9.19s/it]\n",
      "  0%|                                                   | 0/16 [00:00<?, ?it/s]"
     ]
    },
    {
     "name": "stdout",
     "output_type": "stream",
     "text": [
      "Check: Index cases count: 68\n"
     ]
    },
    {
     "name": "stderr",
     "output_type": "stream",
     "text": [
      " 69%|██████████████████████████▊            | 11/16 [1:00:01<21:11, 254.33s/it]"
     ]
    },
    {
     "ename": "KeyboardInterrupt",
     "evalue": "",
     "output_type": "error",
     "traceback": [
      "\u001b[1;31m---------------------------------------------------------------------------\u001b[0m",
      "\u001b[1;31mKeyboardInterrupt\u001b[0m                         Traceback (most recent call last)",
      "\u001b[1;32m<ipython-input-50-8170a2149f02>\u001b[0m in \u001b[0;36m<module>\u001b[1;34m\u001b[0m\n\u001b[0;32m      2\u001b[0m     \u001b[0mindex_cases_grouped_by_age\u001b[0m\u001b[1;33m,\u001b[0m\u001b[1;33m\u001b[0m\u001b[1;33m\u001b[0m\u001b[0m\n\u001b[0;32m      3\u001b[0m     \u001b[0melderly_grouped\u001b[0m\u001b[1;33m,\u001b[0m\u001b[1;33m\u001b[0m\u001b[1;33m\u001b[0m\u001b[0m\n\u001b[1;32m----> 4\u001b[1;33m     prob_table)\n\u001b[0m",
      "\u001b[1;32mD:\\python\\dark-figure\\bootstrapping\\attack_rate.py\u001b[0m in \u001b[0;36msample_household\u001b[1;34m(data, elderly_data, prob_table, household_size_max, num_trials, cutoff_age)\u001b[0m\n\u001b[0;32m    251\u001b[0m                 \u001b[0mhouseholds\u001b[0m \u001b[1;33m=\u001b[0m \u001b[0mget_households_within_habitants_range\u001b[0m\u001b[1;33m(\u001b[0m\u001b[0mall_households\u001b[0m\u001b[1;33m,\u001b[0m \u001b[0mn\u001b[0m\u001b[1;33m,\u001b[0m \u001b[0mhousehold_size_max\u001b[0m\u001b[1;33m)\u001b[0m\u001b[1;33m\u001b[0m\u001b[1;33m\u001b[0m\u001b[0m\n\u001b[0;32m    252\u001b[0m                 \u001b[0mpeople\u001b[0m \u001b[1;33m=\u001b[0m \u001b[0mget_people_in_households\u001b[0m\u001b[1;33m(\u001b[0m\u001b[0mall_people\u001b[0m\u001b[1;33m,\u001b[0m \u001b[0mhouseholds\u001b[0m\u001b[1;33m)\u001b[0m\u001b[1;33m\u001b[0m\u001b[1;33m\u001b[0m\u001b[0m\n\u001b[1;32m--> 253\u001b[1;33m \u001b[1;33m\u001b[0m\u001b[0m\n\u001b[0m\u001b[0;32m    254\u001b[0m                 \u001b[1;32mfor\u001b[0m \u001b[0mgender\u001b[0m \u001b[1;32min\u001b[0m \u001b[0mGENDER_INDICES\u001b[0m\u001b[1;33m:\u001b[0m\u001b[1;33m\u001b[0m\u001b[1;33m\u001b[0m\u001b[0m\n\u001b[0;32m    255\u001b[0m                     sources_dict = voy_data.loc[(voy_data.gender == gender) & (voy_data.min_household_size == n),\n",
      "\u001b[1;31mKeyboardInterrupt\u001b[0m: "
     ]
    }
   ],
   "source": [
    "sampled_households, wielkosci_domkow = attack_rate.sample_household(\n",
    "    index_cases_grouped_by_age, \n",
    "    elderly_grouped,\n",
    "    prob_table)"
   ]
  },
  {
   "cell_type": "code",
   "execution_count": null,
   "metadata": {},
   "outputs": [],
   "source": [
    "print(f'Number of drawn households {sum(wielkosci_domkow[0,:])} should be equal to '\n",
    "          f'the number of index cases  {len(index_cases.index)}')\n",
    "conf_intervals = calc.get_infected_confidence_interval(sampled_households)\n",
    "print('Confidence intervals: ', conf_intervals)\n",
    "means = calc.get_means(sampled_households)\n",
    "print('Means of infected: ', means)\n",
    "print('Sum of means: ', sum(means))\n",
    "print('Known secondary infected (age-grouped)', attack_rate.get_known_secondary_infected_age_grouped(\n",
    "    patient_data_path=patient_data_file))"
   ]
  }
 ],
 "metadata": {
  "kernelspec": {
   "display_name": "Python 3",
   "language": "python",
   "name": "python3"
  },
  "language_info": {
   "codemirror_mode": {
    "name": "ipython",
    "version": 3
   },
   "file_extension": ".py",
   "mimetype": "text/x-python",
   "name": "python",
   "nbconvert_exporter": "python",
   "pygments_lexer": "ipython3",
   "version": "3.7.4"
  }
 },
 "nbformat": 4,
 "nbformat_minor": 2
}
