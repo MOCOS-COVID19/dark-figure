{
 "cells": [
  {
   "cell_type": "markdown",
   "metadata": {},
   "source": [
    "# implementation of get_probabilities_of_infection from this snippet:\n",
    "Zakł. że $\\lambda_i \\in [0.05 - 0.15]$\n",
    "$\\lambda_{0, i} = 0.1$\n",
    "1. Dla każdego index case losuję domek. Powtarzam 10000 razy.\n",
    "2. Startujemy od $\\lambda_{i, 0}$, $i = 1,..5$\n",
    "3. Liczymy prawdopobieństwa get_probabilities_of_infection dla $\\lambda_{i, j}$\n",
    "    1. dla poprzedniej wersji: -> macierz trójkątna K x K\n",
    "    2. dla nowej wersji: -> ~~macierz $(K\\times 5)\\times {K+4\\choose{4}} \\times 5$.~~ Funkcja która zwraca tupla z 5 prawdopodobieństwami dla zadanych parametrów na wejściu. Jeżeli jakaś grupa jest nieobecna w wylosowanej kombinacji grup wiekowych to oznaczana jest przez NaN.\n",
    "    (lambda_1, ..., lambda_5, ~~grupa wiekowa index case'a~~, k (rozmiar domku), n_1, ..., n_5) -> (p_1, .., p_5)\n",
    "    n_i - liczba osób w i-tej grupie wiekowej w domku\n",
    "4. Zakażanie w domku wg macierzy prawdopodobieństwa z poprzedniego punktu oraz bootstrapu z punktu 1.\n",
    "5. Dla każdej grupy wiekowej sprawdzamy, czy średnia wylosowanych I/N w tej grupie wiekowej jest mniejsza / większa od obserwowanej I/N w tej grupie wiekowej i w zależności od tego odpowiednio zwiększamy / zmniejszamy lambdę tej grupy wiekowej.\n",
    "6. Wróć do punktu 3.\n",
    "    1. Kryterium stopu: max iteracji = 6 został osiągnięty.\n"
   ]
  },
  {
   "cell_type": "code",
   "execution_count": 51,
   "metadata": {},
   "outputs": [],
   "source": [
    "import numpy as np\n",
    "\n",
    "class InfectionProbabilitiesCalculator:\n",
    "    def __init__(self, repeats=1000, rng=None):\n",
    "        self.precalculated_values = dict()\n",
    "        if rng is None:\n",
    "            self.rng = np.random.default_rng()\n",
    "        else:\n",
    "            self.rng = rng\n",
    "        self.repeats = repeats\n",
    "\n",
    "    def _calculate_infection_probabilities(self, lambdas, index_age_group, household_size_age_grouped):\n",
    "        \n",
    "        probabilities = np.zeros(5)\n",
    "        for i in range(5):\n",
    "            if household_size_age_grouped[i] == 0:\n",
    "                probabilities[i] = None\n",
    "        k = np.sum(household_size_age_grouped) # secondary household members\n",
    "        for repeat in np.arange(self.repeats):\n",
    "            \n",
    "            # 1. preprocess and setup the job\n",
    "            simulated = (0, 0, 0, 0, 0)\n",
    "            infected = np.zeros(k).astype(bool)\n",
    "            sampled = np.zeros(k).astype(bool)\n",
    "            age_groups = np.zeros(k)\n",
    "            start = 0\n",
    "            for i, how_many in enumerate(household_size_age_grouped):\n",
    "                stop = start + how_many\n",
    "                age_groups[start:stop] = i\n",
    "                start += stop - start\n",
    "            \n",
    "            # 2. zero iteration - infect from source\n",
    "            for i in range(5):\n",
    "                group_size = household_size_age_grouped[i]\n",
    "                if group_size == 0:\n",
    "                    continue\n",
    "                age_group_probs = np.zeros_like(age_groups)\n",
    "                age_group_probs[age_groups == i] = 1/group_size\n",
    "                index_age_group_infections = rng.binomial(group_size, lambdas[i])\n",
    "                choices = rng.choice(k, index_age_group_infections, replace=False, p=age_group_probs)\n",
    "                infected[choices] = True\n",
    "            #print(infected)\n",
    "            # 3. remaining iterations - infect from infected\n",
    "            while np.any(infected & ~sampled):\n",
    "                arr = infected & ~sampled\n",
    "                infecting_id = arr.nonzero()[0][0]\n",
    "                sampled[infecting_id] = True\n",
    "                \n",
    "                age_group_of_infecting = age_groups[infecting_id]\n",
    "                for i in range(5):\n",
    "                    group_size = household_size_age_grouped[i]\n",
    "                    if age_group_of_infecting == i:\n",
    "                        group_size -= 1\n",
    "                    if group_size == 0:\n",
    "                        continue\n",
    "                    age_group_probs = np.zeros_like(age_groups)\n",
    "                    age_group_probs[age_groups == i] = 1/group_size\n",
    "                    age_group_probs[infecting_id] = 0\n",
    "                    \n",
    "                    index_age_group_infections = rng.binomial(group_size, lambdas[i])\n",
    "                    choices = rng.choice(k, index_age_group_infections, replace=False, p=age_group_probs)\n",
    "                    infected[choices] = True\n",
    "            # 4. update probabilities\n",
    "            for i in range(5):\n",
    "                if household_size_age_grouped[i] > 0:\n",
    "                    age_group_infected = sum(infected[age_groups == i])\n",
    "                    current_simulated_value = age_group_infected / household_size_age_grouped[i]\n",
    "                    # online average\n",
    "                    probabilities[i] = (repeat * probabilities[i] + current_simulated_value) / (repeat + 1)\n",
    "\n",
    "        return probabilities\n",
    "    \n",
    "    def get_probabilities_of_infection(self, lambda1, lambda2, lambda3, lambda4, lambda5, index_age_group, \n",
    "                                       household_size_age_group1, household_size_age_group2, \n",
    "                                       household_size_age_group3, household_size_age_group4, \n",
    "                                       household_size_age_group5):\n",
    "\n",
    "        dict_key = ((lambda1, lambda2, lambda3, lambda4, lambda5), index_age_group,\n",
    "                   (household_size_age_group1, household_size_age_group2, household_size_age_group3,\n",
    "                   household_size_age_group4, household_size_age_group5))\n",
    "\n",
    "        if dict_key not in self.precalculated_values:\n",
    "            self.precalculated_values[dict_key] = self._calculate_infection_probabilities((lambda1, lambda2, \n",
    "                                                                                          lambda3, lambda4, \n",
    "                                                                                          lambda5), index_age_group, \n",
    "                                                                                          (household_size_age_group1,\n",
    "                                                                                          household_size_age_group2, \n",
    "                                                                                          household_size_age_group3, \n",
    "                                                                                          household_size_age_group4, \n",
    "                                                                                          household_size_age_group5))\n",
    "        return self.precalculated_values[dict_key]\n",
    "    \n"
   ]
  },
  {
   "cell_type": "code",
   "execution_count": 60,
   "metadata": {},
   "outputs": [],
   "source": [
    "import time"
   ]
  },
  {
   "cell_type": "code",
   "execution_count": 63,
   "metadata": {},
   "outputs": [
    {
     "name": "stdout",
     "output_type": "stream",
     "text": [
      "returned: [0.11966667        nan 0.         0.         0.        ] - elapsed time: 0.31027984619140625 s\n"
     ]
    }
   ],
   "source": [
    "# test 1 - should infect only 0 group\n",
    "calculator = InfectionProbabilitiesCalculator()\n",
    "lambda1 = 0.10\n",
    "lambda2 = 0.00\n",
    "lambda3 = 0.00\n",
    "lambda4 = 0.00\n",
    "lambda5 = 0.00\n",
    "index_age_group = 2\n",
    "household_size_age_group1 = 3\n",
    "household_size_age_group2 = 0\n",
    "household_size_age_group3 = 4\n",
    "household_size_age_group4 = 1\n",
    "household_size_age_group5 = 5\n",
    "start = time.time()\n",
    "ret = calculator.get_probabilities_of_infection(lambda1, lambda2, lambda3, lambda4, lambda5, index_age_group, \n",
    "                                                household_size_age_group1, household_size_age_group2, \n",
    "                                                household_size_age_group3, household_size_age_group4, \n",
    "                                                household_size_age_group5)\n",
    "end = time.time()\n",
    "print(f'returned: {ret} - elapsed time: {end - start} s')"
   ]
  },
  {
   "cell_type": "code",
   "execution_count": 64,
   "metadata": {},
   "outputs": [
    {
     "name": "stdout",
     "output_type": "stream",
     "text": [
      "returned: [0.11966667        nan 0.         0.         0.        ] - elapsed time: 9.703636169433594e-05 s\n"
     ]
    }
   ],
   "source": [
    "# test 2 - should return result immediately \n",
    "start = time.time()\n",
    "ret = calculator.get_probabilities_of_infection(lambda1, lambda2, lambda3, lambda4, lambda5, index_age_group, \n",
    "                                                household_size_age_group1, household_size_age_group2, \n",
    "                                                household_size_age_group3, household_size_age_group4, \n",
    "                                                household_size_age_group5)\n",
    "end = time.time()\n",
    "print(f'returned: {ret} - elapsed time: {end - start} s')"
   ]
  },
  {
   "cell_type": "code",
   "execution_count": 65,
   "metadata": {},
   "outputs": [
    {
     "name": "stdout",
     "output_type": "stream",
     "text": [
      "returned: [0.44833333 0.44266667 0.444      0.43866667 0.44133333] - elapsed time: 2.0086779594421387 s\n"
     ]
    }
   ],
   "source": [
    "# test 3 - should infect almost same numbers of each age group\n",
    "calculator = InfectionProbabilitiesCalculator()\n",
    "lambda1 = 0.10\n",
    "lambda2 = 0.10\n",
    "lambda3 = 0.10\n",
    "lambda4 = 0.10\n",
    "lambda5 = 0.10\n",
    "index_age_group = 0\n",
    "household_size_age_group1 = 3\n",
    "household_size_age_group2 = 3\n",
    "household_size_age_group3 = 3\n",
    "household_size_age_group4 = 3\n",
    "household_size_age_group5 = 3\n",
    "start = time.time()\n",
    "ret = calculator.get_probabilities_of_infection(lambda1, lambda2, lambda3, lambda4, lambda5, index_age_group, \n",
    "                                                household_size_age_group1, household_size_age_group2, \n",
    "                                                household_size_age_group3, household_size_age_group4, \n",
    "                                                household_size_age_group5)\n",
    "end = time.time()\n",
    "print(f'returned: {ret} - elapsed time: {end - start} s')"
   ]
  },
  {
   "cell_type": "code",
   "execution_count": 66,
   "metadata": {},
   "outputs": [
    {
     "name": "stdout",
     "output_type": "stream",
     "text": [
      "returned: [1. 1. 1. 1. 1.] - elapsed time: 7.062686920166016 s\n"
     ]
    }
   ],
   "source": [
    "# test 4 - should infect all\n",
    "calculator = InfectionProbabilitiesCalculator()\n",
    "lambda1 = 1.0\n",
    "lambda2 = 1.0\n",
    "lambda3 = 1.0\n",
    "lambda4 = 1.0\n",
    "lambda5 = 1.0\n",
    "index_age_group = 0\n",
    "household_size_age_group1 = 3\n",
    "household_size_age_group2 = 3\n",
    "household_size_age_group3 = 3\n",
    "household_size_age_group4 = 3\n",
    "household_size_age_group5 = 3\n",
    "start = time.time()\n",
    "ret = calculator.get_probabilities_of_infection(lambda1, lambda2, lambda3, lambda4, lambda5, index_age_group, \n",
    "                                                household_size_age_group1, household_size_age_group2, \n",
    "                                                household_size_age_group3, household_size_age_group4, \n",
    "                                                household_size_age_group5)\n",
    "end = time.time()\n",
    "print(f'returned: {ret} - elapsed time: {end - start} s')"
   ]
  }
 ],
 "metadata": {
  "kernelspec": {
   "display_name": "Python 3",
   "language": "python",
   "name": "python3"
  },
  "language_info": {
   "codemirror_mode": {
    "name": "ipython",
    "version": 3
   },
   "file_extension": ".py",
   "mimetype": "text/x-python",
   "name": "python",
   "nbconvert_exporter": "python",
   "pygments_lexer": "ipython3",
   "version": "3.7.3"
  }
 },
 "nbformat": 4,
 "nbformat_minor": 4
}
