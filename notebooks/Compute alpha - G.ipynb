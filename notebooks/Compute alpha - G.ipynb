{
 "cells": [
  {
   "cell_type": "code",
   "execution_count": 48,
   "metadata": {},
   "outputs": [],
   "source": [
    "import numpy as np\n",
    "alpha = 0.3\n",
    "k = 2 # 1 < k < 15\n",
    "rng = np.random.default_rng()\n",
    "def compute_number_of_infected(alpha, k, rng=rng, x0=1):\n",
    "    infected = np.zeros(k).astype(bool)\n",
    "    sampled = np.zeros(k).astype(bool)\n",
    "    infected[:x0] = 1\n",
    "    while np.any(infected & ~sampled):\n",
    "        arr = infected & ~sampled\n",
    "        infecting_id = arr.nonzero()[0][0]\n",
    "        sampled[infecting_id] = True\n",
    "        probs = np.ones(k)\n",
    "        probs[infecting_id] = 0\n",
    "        probs /= (k - 1)\n",
    "        infections = rng.binomial(k - 1, alpha)\n",
    "        choices = rng.choice(k, infections, replace=False, p=probs)\n",
    "        infected[choices] = True\n",
    "    return sum(infected)"
   ]
  },
  {
   "cell_type": "code",
   "execution_count": 51,
   "metadata": {},
   "outputs": [
    {
     "name": "stdout",
     "output_type": "stream",
     "text": [
      "k\talpha\texpected infected\t(iterations=100000)\n",
      "2\t0.100\t1.1004\n",
      "2\t0.200\t1.1994\n",
      "2\t0.300\t1.2988\n",
      "2\t0.400\t1.4032\n",
      "2\t0.500\t1.4999\n",
      "2\t0.600\t1.6025\n",
      "2\t0.700\t1.7011\n",
      "2\t0.800\t1.8003\n",
      "2\t0.900\t1.8969\n",
      "3\t0.100\t1.2195\n",
      "3\t0.200\t1.4657\n",
      "3\t0.300\t1.7264\n",
      "3\t0.400\t1.9910\n",
      "3\t0.500\t2.2489\n",
      "3\t0.600\t2.4861\n",
      "3\t0.700\t2.6944\n",
      "3\t0.800\t2.8562\n",
      "3\t0.900\t2.9626\n",
      "4\t0.100\t1.3554\n",
      "4\t0.200\t1.8145\n",
      "4\t0.300\t2.3149\n",
      "4\t0.400\t2.8139\n",
      "4\t0.500\t3.2436\n",
      "4\t0.600\t3.5905\n",
      "4\t0.700\t3.8200\n",
      "4\t0.800\t3.9457\n",
      "4\t0.900\t3.9929\n",
      "5\t0.100\t1.5230\n",
      "5\t0.200\t2.2635\n",
      "5\t0.300\t3.1045\n",
      "5\t0.400\t3.8437\n",
      "5\t0.500\t4.4130\n",
      "5\t0.600\t4.7565\n",
      "5\t0.700\t4.9266\n",
      "5\t0.800\t4.9865\n",
      "5\t0.900\t4.9992\n",
      "6\t0.100\t1.7250\n",
      "6\t0.200\t2.8637\n",
      "6\t0.300\t4.0767\n",
      "6\t0.400\t5.0480\n",
      "6\t0.500\t5.6157\n",
      "6\t0.600\t5.8832\n",
      "6\t0.700\t5.9751\n",
      "6\t0.800\t5.9963\n",
      "6\t0.900\t5.9999\n",
      "7\t0.100\t1.9693\n",
      "7\t0.200\t3.6004\n",
      "7\t0.300\t5.2356\n",
      "7\t0.400\t6.2956\n",
      "7\t0.500\t6.7767\n",
      "7\t0.600\t6.9456\n",
      "7\t0.700\t6.9906\n",
      "7\t0.800\t6.9991\n",
      "7\t0.900\t7.0000\n",
      "8\t0.100\t2.2521\n",
      "8\t0.200\t4.5057\n",
      "8\t0.300\t6.5063\n",
      "8\t0.400\t7.5200\n",
      "8\t0.500\t7.8825\n",
      "8\t0.600\t7.9775\n",
      "8\t0.700\t7.9966\n",
      "8\t0.800\t7.9999\n",
      "8\t0.900\t8.0000\n",
      "9\t0.100\t2.6045\n",
      "9\t0.200\t5.5800\n",
      "9\t0.300\t7.8109\n",
      "9\t0.400\t8.6862\n",
      "9\t0.500\t8.9336\n",
      "9\t0.600\t8.9906\n",
      "9\t0.700\t8.9987\n",
      "9\t0.800\t8.9999\n",
      "9\t0.900\t9.0000\n",
      "10\t0.100\t3.0266\n",
      "10\t0.200\t6.7938\n",
      "10\t0.300\t9.0902\n",
      "10\t0.400\t9.7983\n",
      "10\t0.500\t9.9634\n",
      "10\t0.600\t9.9959\n",
      "10\t0.700\t9.9996\n",
      "10\t0.800\t9.9999\n",
      "10\t0.900\t10.0000\n",
      "11\t0.100\t3.5257\n",
      "11\t0.200\t8.0828\n",
      "11\t0.300\t10.3198\n",
      "11\t0.400\t10.8669\n",
      "11\t0.500\t10.9823\n",
      "11\t0.600\t10.9980\n",
      "11\t0.700\t11.0000\n",
      "11\t0.800\t11.0000\n",
      "11\t0.900\t11.0000\n",
      "12\t0.100\t4.1287\n",
      "12\t0.200\t9.4356\n",
      "12\t0.300\t11.4970\n",
      "12\t0.400\t11.9169\n",
      "12\t0.500\t11.9888\n",
      "12\t0.600\t11.9990\n",
      "12\t0.700\t11.9999\n",
      "12\t0.800\t12.0000\n",
      "12\t0.900\t12.0000\n",
      "13\t0.100\t4.8394\n",
      "13\t0.200\t10.8164\n",
      "13\t0.300\t12.6196\n",
      "13\t0.400\t12.9465\n",
      "13\t0.500\t12.9946\n",
      "13\t0.600\t12.9996\n",
      "13\t0.700\t12.9999\n",
      "13\t0.800\t13.0000\n",
      "13\t0.900\t13.0000\n",
      "14\t0.100\t5.6086\n",
      "14\t0.200\t12.1584\n",
      "14\t0.300\t13.7283\n",
      "14\t0.400\t13.9663\n",
      "14\t0.500\t13.9969\n",
      "14\t0.600\t14.0000\n",
      "14\t0.700\t14.0000\n",
      "14\t0.800\t14.0000\n",
      "14\t0.900\t14.0000\n"
     ]
    }
   ],
   "source": [
    "iterations=100000\n",
    "print(f'k\\talpha\\texpected infected\\t(iterations={iterations})')\n",
    "for k in np.arange(2, 15):\n",
    "    for alpha in np.arange(0.1, 1.0, 0.1):\n",
    "        expected_infected = 0\n",
    "        for iters in np.arange(iterations):\n",
    "            infected = compute_number_of_infected(alpha, k)\n",
    "            expected_infected = (expected_infected * iters + infected) / (iters + 1)\n",
    "        print(f'{k}\\t{alpha:.3f}\\t{expected_infected:.4f}')"
   ]
  },
  {
   "cell_type": "code",
   "execution_count": 9,
   "metadata": {},
   "outputs": [
    {
     "data": {
      "text/plain": [
       "array([ True,  True,  True, False, False, False, False, False, False,\n",
       "       False])"
      ]
     },
     "execution_count": 9,
     "metadata": {},
     "output_type": "execute_result"
    }
   ],
   "source": [
    "import numpy as np\n",
    "k=10\n",
    "x0=3\n",
    "v=np.zeros(k).astype(bool)\n",
    "v[:x0]=1\n",
    "v"
   ]
  },
  {
   "cell_type": "code",
   "execution_count": 6,
   "metadata": {},
   "outputs": [
    {
     "ename": "TypeError",
     "evalue": "ufunc 'bitwise_and' not supported for the input types, and the inputs could not be safely coerced to any supported types according to the casting rule ''safe''",
     "output_type": "error",
     "traceback": [
      "\u001b[0;31m---------------------------------------------------------------------------\u001b[0m",
      "\u001b[0;31mTypeError\u001b[0m                                 Traceback (most recent call last)",
      "\u001b[0;32m<ipython-input-6-b3c8bd9b86c0>\u001b[0m in \u001b[0;36m<module>\u001b[0;34m\u001b[0m\n\u001b[1;32m      1\u001b[0m \u001b[0msampled\u001b[0m \u001b[0;34m=\u001b[0m \u001b[0mnp\u001b[0m\u001b[0;34m.\u001b[0m\u001b[0mzeros\u001b[0m\u001b[0;34m(\u001b[0m\u001b[0mk\u001b[0m\u001b[0;34m)\u001b[0m\u001b[0;34m.\u001b[0m\u001b[0mastype\u001b[0m\u001b[0;34m(\u001b[0m\u001b[0mbool\u001b[0m\u001b[0;34m)\u001b[0m\u001b[0;34m\u001b[0m\u001b[0;34m\u001b[0m\u001b[0m\n\u001b[0;32m----> 2\u001b[0;31m \u001b[0msampled\u001b[0m \u001b[0;34m&\u001b[0m \u001b[0mv\u001b[0m\u001b[0;34m\u001b[0m\u001b[0;34m\u001b[0m\u001b[0m\n\u001b[0m",
      "\u001b[0;31mTypeError\u001b[0m: ufunc 'bitwise_and' not supported for the input types, and the inputs could not be safely coerced to any supported types according to the casting rule ''safe''"
     ]
    }
   ],
   "source": [
    "sampled = np.zeros(k).astype(bool)"
   ]
  },
  {
   "cell_type": "code",
   "execution_count": 13,
   "metadata": {},
   "outputs": [
    {
     "data": {
      "text/plain": [
       "True"
      ]
     },
     "execution_count": 13,
     "metadata": {},
     "output_type": "execute_result"
    }
   ],
   "source": [
    "np.any(v & ~sampled)"
   ]
  },
  {
   "cell_type": "code",
   "execution_count": 14,
   "metadata": {},
   "outputs": [
    {
     "data": {
      "text/plain": [
       "array([ True,  True,  True, False, False, False, False, False, False,\n",
       "       False])"
      ]
     },
     "execution_count": 14,
     "metadata": {},
     "output_type": "execute_result"
    }
   ],
   "source": [
    "v[~sampled]"
   ]
  },
  {
   "cell_type": "code",
   "execution_count": 18,
   "metadata": {},
   "outputs": [
    {
     "data": {
      "text/plain": [
       "0"
      ]
     },
     "execution_count": 18,
     "metadata": {},
     "output_type": "execute_result"
    }
   ],
   "source": [
    "v[~sampled].nonzero()[0][0]"
   ]
  },
  {
   "cell_type": "code",
   "execution_count": 19,
   "metadata": {},
   "outputs": [],
   "source": [
    "sampled[0]=True"
   ]
  },
  {
   "cell_type": "code",
   "execution_count": 20,
   "metadata": {},
   "outputs": [
    {
     "data": {
      "text/plain": [
       "0"
      ]
     },
     "execution_count": 20,
     "metadata": {},
     "output_type": "execute_result"
    }
   ],
   "source": [
    "v[~sampled].nonzero()[0][0]"
   ]
  },
  {
   "cell_type": "code",
   "execution_count": 23,
   "metadata": {},
   "outputs": [
    {
     "data": {
      "text/plain": [
       "array([ True,  True, False, False, False, False, False, False, False])"
      ]
     },
     "execution_count": 23,
     "metadata": {},
     "output_type": "execute_result"
    }
   ],
   "source": [
    "v[~sampled]"
   ]
  },
  {
   "cell_type": "code",
   "execution_count": 25,
   "metadata": {},
   "outputs": [
    {
     "data": {
      "text/plain": [
       "array([False,  True,  True, False, False, False, False, False, False,\n",
       "       False])"
      ]
     },
     "execution_count": 25,
     "metadata": {},
     "output_type": "execute_result"
    }
   ],
   "source": [
    "v & ~sampled"
   ]
  },
  {
   "cell_type": "code",
   "execution_count": 27,
   "metadata": {},
   "outputs": [],
   "source": [
    "arr = v & ~sampled"
   ]
  },
  {
   "cell_type": "code",
   "execution_count": 28,
   "metadata": {},
   "outputs": [
    {
     "data": {
      "text/plain": [
       "(array([1, 2]),)"
      ]
     },
     "execution_count": 28,
     "metadata": {},
     "output_type": "execute_result"
    }
   ],
   "source": [
    "arr.nonzero()"
   ]
  },
  {
   "cell_type": "code",
   "execution_count": 29,
   "metadata": {},
   "outputs": [
    {
     "data": {
      "text/plain": [
       "array([0.11111111, 0.        , 0.11111111, 0.11111111, 0.11111111,\n",
       "       0.11111111, 0.11111111, 0.11111111, 0.11111111, 0.11111111])"
      ]
     },
     "execution_count": 29,
     "metadata": {},
     "output_type": "execute_result"
    }
   ],
   "source": [
    "probs = np.ones(k)\n",
    "infecting_id = arr.nonzero()[0][0]\n",
    "probs[infecting_id] = 0\n",
    "probs /= (k - 1)\n",
    "probs"
   ]
  },
  {
   "cell_type": "code",
   "execution_count": 36,
   "metadata": {},
   "outputs": [],
   "source": [
    "infections = 3\n",
    "rng = np.random.default_rng()\n",
    "choices = rng.choice(k, infections, replace=False, p=probs)"
   ]
  },
  {
   "cell_type": "code",
   "execution_count": 38,
   "metadata": {},
   "outputs": [
    {
     "data": {
      "text/plain": [
       "array([False, False,  True])"
      ]
     },
     "execution_count": 38,
     "metadata": {},
     "output_type": "execute_result"
    }
   ],
   "source": [
    "v[choices]"
   ]
  },
  {
   "cell_type": "code",
   "execution_count": 39,
   "metadata": {},
   "outputs": [
    {
     "data": {
      "text/plain": [
       "array([ True,  True,  True, False, False, False, False, False, False,\n",
       "       False])"
      ]
     },
     "execution_count": 39,
     "metadata": {},
     "output_type": "execute_result"
    }
   ],
   "source": [
    "v"
   ]
  },
  {
   "cell_type": "code",
   "execution_count": 40,
   "metadata": {},
   "outputs": [],
   "source": [
    "v[choices]=True"
   ]
  },
  {
   "cell_type": "code",
   "execution_count": 37,
   "metadata": {},
   "outputs": [
    {
     "data": {
      "text/plain": [
       "array([7, 3, 0])"
      ]
     },
     "execution_count": 37,
     "metadata": {},
     "output_type": "execute_result"
    }
   ],
   "source": [
    "choices"
   ]
  },
  {
   "cell_type": "code",
   "execution_count": 41,
   "metadata": {},
   "outputs": [
    {
     "data": {
      "text/plain": [
       "array([ True,  True,  True,  True, False, False, False,  True, False,\n",
       "       False])"
      ]
     },
     "execution_count": 41,
     "metadata": {},
     "output_type": "execute_result"
    }
   ],
   "source": [
    "v"
   ]
  },
  {
   "cell_type": "code",
   "execution_count": 42,
   "metadata": {},
   "outputs": [
    {
     "data": {
      "text/plain": [
       "5"
      ]
     },
     "execution_count": 42,
     "metadata": {},
     "output_type": "execute_result"
    }
   ],
   "source": [
    "sum(v)"
   ]
  },
  {
   "cell_type": "code",
   "execution_count": null,
   "metadata": {},
   "outputs": [],
   "source": []
  }
 ],
 "metadata": {
  "kernelspec": {
   "display_name": "Python 3",
   "language": "python",
   "name": "python3"
  },
  "language_info": {
   "codemirror_mode": {
    "name": "ipython",
    "version": 3
   },
   "file_extension": ".py",
   "mimetype": "text/x-python",
   "name": "python",
   "nbconvert_exporter": "python",
   "pygments_lexer": "ipython3",
   "version": "3.7.3"
  }
 },
 "nbformat": 4,
 "nbformat_minor": 4
}
