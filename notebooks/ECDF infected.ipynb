{
 "cells": [
  {
   "cell_type": "markdown",
   "metadata": {},
   "source": [
    "# ECDF of infected"
   ]
  },
  {
   "cell_type": "code",
   "execution_count": 49,
   "metadata": {},
   "outputs": [],
   "source": [
    "import numpy as np\n",
    "import pandas as pd\n",
    "from pathlib import Path\n",
    "from tqdm.notebook import tqdm\n",
    "import random\n",
    "from collections import defaultdict\n",
    "import matplotlib.pyplot as plt\n",
    "import pickle\n",
    "import operator"
   ]
  },
  {
   "cell_type": "code",
   "execution_count": 8,
   "metadata": {},
   "outputs": [],
   "source": [
    "import os\n",
    "if os.getcwd().endswith('notebooks'):\n",
    "    os.chdir(os.path.join(os.getcwd(), os.pardir))\n",
    "# os.getcwd()"
   ]
  },
  {
   "cell_type": "code",
   "execution_count": 9,
   "metadata": {},
   "outputs": [],
   "source": [
    "from bootstrapping import attack_rate"
   ]
  },
  {
   "cell_type": "code",
   "execution_count": 39,
   "metadata": {},
   "outputs": [
    {
     "name": "stdout",
     "output_type": "stream",
     "text": [
      "Age group\tLower bound\tUpper bound\t     Mean\tKnown secondary infected\n",
      "     0-19\t       1000\t       1202\t1101.9442\t                     751\n",
      "    20-39\t       1081\t       1283\t1179.3691\t                    1053\n",
      "    40-59\t        785\t        950\t 866.6583\t                    1017\n",
      "    60-79\t        404\t        520\t 460.3566\t                     588\n",
      "      80+\t         73\t        125\t  98.1602\t                     139\n"
     ]
    }
   ],
   "source": [
    "age_groups = (20, 40, 60, 80)\n",
    "calc = attack_rate.AttackRate()\n",
    "with (attack_rate.RESULTS_DIR / 'sampled_households_secondary_202007120108.pickle').open('rb') as handle:\n",
    "    sampled_households = pickle.load(handle)\n",
    "conf_intervals = calc.get_infected_confidence_interval(sampled_households, age_groups)\n",
    "means = calc.get_means(sampled_households, age_groups)\n",
    "known_sec_inf, unknown_age = attack_rate.get_known_secondary_infected_age_grouped(\n",
    "    age_ranges=age_groups)\n",
    "\n",
    "def age_group_to_str(age_groups, i):\n",
    "    if i == 0:\n",
    "        return f'0-{age_groups[i]-1}'\n",
    "    if i == len(age_groups):\n",
    "        return f'{age_groups[-1]}+'\n",
    "    return f'{age_groups[i-1]}-{age_groups[i]-1}'\n",
    "print('Age group\\tLower bound\\tUpper bound\\t     Mean\\tKnown secondary infected')\n",
    "line_pattern = '{:>9s}\\t{:11.0f}\\t{:11.0f}\\t{:>9.4f}\\t{:24d}'\n",
    "for i in range(len(age_groups)+1):\n",
    "    print(line_pattern.format(age_group_to_str(age_groups, i), \n",
    "                              *conf_intervals[i], means[i], known_sec_inf[i]))"
   ]
  },
  {
   "cell_type": "code",
   "execution_count": 44,
   "metadata": {},
   "outputs": [],
   "source": [
    "age_ranges2 = list(range(1,101))"
   ]
  },
  {
   "cell_type": "code",
   "execution_count": 45,
   "metadata": {},
   "outputs": [],
   "source": [
    "known_sec_inf, unknown_age = attack_rate.get_known_secondary_infected_age_grouped(\n",
    "    age_ranges=age_ranges2)"
   ]
  },
  {
   "cell_type": "code",
   "execution_count": 65,
   "metadata": {},
   "outputs": [],
   "source": [
    "for key in age_ranges2:\n",
    "    if key not in known_sec_inf:\n",
    "        known_sec_inf[key] = 0"
   ]
  },
  {
   "cell_type": "code",
   "execution_count": 66,
   "metadata": {},
   "outputs": [],
   "source": [
    "known_inf = [v[1] for v in sorted(known_sec_inf.items(), key=lambda v: operator.itemgetter(0)(v))]"
   ]
  },
  {
   "cell_type": "code",
   "execution_count": 77,
   "metadata": {},
   "outputs": [],
   "source": [
    "cum_sum_known_inf = np.cumsum(known_inf) / np.sum(known_inf)"
   ]
  },
  {
   "cell_type": "code",
   "execution_count": 68,
   "metadata": {},
   "outputs": [
    {
     "data": {
      "text/html": [
       "<div>\n",
       "<style scoped>\n",
       "    .dataframe tbody tr th:only-of-type {\n",
       "        vertical-align: middle;\n",
       "    }\n",
       "\n",
       "    .dataframe tbody tr th {\n",
       "        vertical-align: top;\n",
       "    }\n",
       "\n",
       "    .dataframe thead th {\n",
       "        text-align: right;\n",
       "    }\n",
       "</style>\n",
       "<table border=\"1\" class=\"dataframe\">\n",
       "  <thead>\n",
       "    <tr style=\"text-align: right;\">\n",
       "      <th></th>\n",
       "      <th>known_inf</th>\n",
       "      <th>cum_sum_known_inf</th>\n",
       "    </tr>\n",
       "  </thead>\n",
       "  <tbody>\n",
       "    <tr>\n",
       "      <th>0</th>\n",
       "      <td>29</td>\n",
       "      <td>29</td>\n",
       "    </tr>\n",
       "    <tr>\n",
       "      <th>1</th>\n",
       "      <td>33</td>\n",
       "      <td>62</td>\n",
       "    </tr>\n",
       "    <tr>\n",
       "      <th>2</th>\n",
       "      <td>26</td>\n",
       "      <td>88</td>\n",
       "    </tr>\n",
       "    <tr>\n",
       "      <th>3</th>\n",
       "      <td>21</td>\n",
       "      <td>109</td>\n",
       "    </tr>\n",
       "    <tr>\n",
       "      <th>4</th>\n",
       "      <td>40</td>\n",
       "      <td>149</td>\n",
       "    </tr>\n",
       "  </tbody>\n",
       "</table>\n",
       "</div>"
      ],
      "text/plain": [
       "   known_inf  cum_sum_known_inf\n",
       "0         29                 29\n",
       "1         33                 62\n",
       "2         26                 88\n",
       "3         21                109\n",
       "4         40                149"
      ]
     },
     "execution_count": 68,
     "metadata": {},
     "output_type": "execute_result"
    }
   ],
   "source": [
    "pd.DataFrame(data={'known_inf': known_inf, 'cum_sum_known_inf': cum_sum_known_inf}).head()"
   ]
  },
  {
   "cell_type": "code",
   "execution_count": 70,
   "metadata": {},
   "outputs": [],
   "source": [
    "means = calc.get_means(sampled_households, age_ranges2)"
   ]
  },
  {
   "cell_type": "code",
   "execution_count": 76,
   "metadata": {},
   "outputs": [],
   "source": [
    "cum_sum_means = np.cumsum(means) / np.sum(means)"
   ]
  },
  {
   "cell_type": "code",
   "execution_count": 78,
   "metadata": {},
   "outputs": [
    {
     "data": {
      "image/png": "[encoded data removed]",
      "text/plain": [
       "<Figure size 432x288 with 1 Axes>"
      ]
     },
     "metadata": {
      "needs_background": "light"
     },
     "output_type": "display_data"
    }
   ],
   "source": [
    "plt.figure()\n",
    "age_ranges_full = list(range(101))\n",
    "plt.step(age_ranges_full, cum_sum_known_inf, label='Known infected')\n",
    "plt.step(age_ranges_full, cum_sum_means, label='Bootstrapped infected')\n",
    "plt.title('ECDFs of infected')\n",
    "plt.xlabel('Age')\n",
    "plt.ylabel('Cumulative probability')\n",
    "plt.legend()\n",
    "plt.savefig(str(attack_rate.RESULTS_DIR / 'ecdf_infected.png'))\n",
    "plt.show()"
   ]
  },
  {
   "cell_type": "code",
   "execution_count": null,
   "metadata": {},
   "outputs": [],
   "source": []
  }
 ],
 "metadata": {
  "kernelspec": {
   "display_name": "Python [conda env:.conda-modelling-ncov2019]",
   "language": "python",
   "name": "conda-env-.conda-modelling-ncov2019-py"
  },
  "language_info": {
   "codemirror_mode": {
    "name": "ipython",
    "version": 3
   },
   "file_extension": ".py",
   "mimetype": "text/x-python",
   "name": "python",
   "nbconvert_exporter": "python",
   "pygments_lexer": "ipython3",
   "version": "3.7.6"
  }
 },
 "nbformat": 4,
 "nbformat_minor": 2
}
